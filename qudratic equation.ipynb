{
 "cells": [
  {
   "cell_type": "markdown",
   "id": "3122cb15-640b-45be-a94d-32957ff0385a",
   "metadata": {},
   "source": [
    "## Quadratic Equation"
   ]
  },
  {
   "cell_type": "code",
   "execution_count": 21,
   "id": "fd04b26f-f023-4138-bd36-f36e63ae0133",
   "metadata": {},
   "outputs": [
    {
     "name": "stdin",
     "output_type": "stream",
     "text": [
      "Enter The Value of A :  1\n",
      "Enter The Value of B :  1\n",
      "Enter The Value of c :  3\n"
     ]
    },
    {
     "name": "stdout",
     "output_type": "stream",
     "text": [
      "The Value of discrimint is:-11\n",
      "The root are imaginary\n",
      "The one Root of this equation is:(-0.5+1.6583123951777j)\n",
      "The Second Root of this equation is:(-0.5-1.6583123951777j)\n"
     ]
    }
   ],
   "source": [
    "import math\n",
    "import cmath ## This library is used for the complex number like i (iota in math it is used for imaginary roots)\n",
    "a=int(input(\"Enter The Value of A : \"))\n",
    "b=int(input(\"Enter The Value of B : \"))\n",
    "c=int(input(\"Enter The Value of c : \"))\n",
    "d=(b*b-4*a*c)\n",
    "print(f\"The Value of discrimint is:{d}\")\n",
    "if(d>0):\n",
    "    print(\"The Root are real\")\n",
    "    root1=((-b-math.sqrt(d))/(2.0*a))\n",
    "    root2=((-b+math.sqrt(d))/(2.0*a))\n",
    "    print(f\"The one Root of this equation is:{root1}\")\n",
    "    print(f\"The Second Root of this equation is:{root2}\")\n",
    "elif(d==0):\n",
    "    print(\"The root are equal\")\n",
    "    root1=root2=((-b)/(2.0*a))\n",
    "    print(f\"The one Root of this equation is:{root1}\")\n",
    "    print(f\"The Second Root of this equation is:{root2}\")\n",
    "else:\n",
    "    print(\"The root are imaginary\")\n",
    "    root1=((-b-(-cmath.sqrt(d)))/(2.0*a))\n",
    "    root2=((-b+(-cmath.sqrt(d)))/(2.0*a))\n",
    "    print(f\"The one Root of this equation is:{root1}\")\n",
    "    print(f\"The Second Root of this equation is:{root2}\")\n",
    "    "
   ]
  },
  {
   "cell_type": "code",
   "execution_count": null,
   "id": "63fc5bca-0f5d-4ce2-9094-1764f37b5a82",
   "metadata": {},
   "outputs": [],
   "source": []
  }
 ],
 "metadata": {
  "kernelspec": {
   "display_name": "Python [conda env:base] *",
   "language": "python",
   "name": "conda-base-py"
  },
  "language_info": {
   "codemirror_mode": {
    "name": "ipython",
    "version": 3
   },
   "file_extension": ".py",
   "mimetype": "text/x-python",
   "name": "python",
   "nbconvert_exporter": "python",
   "pygments_lexer": "ipython3",
   "version": "3.12.7"
  }
 },
 "nbformat": 4,
 "nbformat_minor": 5
}
