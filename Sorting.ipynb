{
 "cells": [
  {
   "cell_type": "code",
   "execution_count": 66,
   "id": "7c2a39b4-07c9-4a14-aa8c-f69a698143ce",
   "metadata": {},
   "outputs": [
    {
     "data": {
      "text/plain": [
       "[]"
      ]
     },
     "execution_count": 66,
     "metadata": {},
     "output_type": "execute_result"
    }
   ],
   "source": []
  },
  {
   "cell_type": "code",
   "execution_count": 1,
   "id": "13a0f486-e899-428b-bc3e-f64e3735739f",
   "metadata": {},
   "outputs": [],
   "source": [
    "def create():\n",
    "    arr=[]\n",
    "    print(\"Here you Can insert the element\")\n",
    "    n=int(input(\"Enter The Number of Elements That You want in your array\"))\n",
    "    for i in range(n):   \n",
    "        Value=int(input(f\"Enter The Element{i}\"))\n",
    "        arr.append(Value)\n",
    "    print(\"Elements are inserted successfully\")\n",
    "    return arr,n"
   ]
  },
  {
   "cell_type": "code",
   "execution_count": null,
   "id": "929cf854-c43e-483f-a713-6b6dfcba8ecf",
   "metadata": {},
   "outputs": [],
   "source": []
  },
  {
   "cell_type": "code",
   "execution_count": 4,
   "id": "3f7599d5-329a-4bad-a12d-d3c362fbaa1e",
   "metadata": {},
   "outputs": [],
   "source": [
    "def insertion_sort(arr):\n",
    "    print(\"This block is for insertion sort\")\n",
    "    \n",
    "\n",
    "    for i in range(1, len(arr)):\n",
    "        curr = arr[i]      # Current element to insert\n",
    "        pre = i - 1        # Start from the previous index\n",
    "\n",
    "        # Shift elements greater than curr to the right\n",
    "        while pre >= 0 and arr[pre] > curr:\n",
    "            arr[pre + 1] = arr[pre]\n",
    "            pre -= 1\n",
    "\n",
    "        arr[pre + 1] = curr\n",
    "\n",
    "    print(arr)\n"
   ]
  },
  {
   "cell_type": "code",
   "execution_count": 7,
   "id": "a9e2de5f-7229-482d-bc98-03ca9f1d5ded",
   "metadata": {},
   "outputs": [
    {
     "name": "stdout",
     "output_type": "stream",
     "text": [
      "\n",
      "--- Array Operations Menu ---\n",
      "1. Create Array\n",
      "2. Insertion Sort\n"
     ]
    },
    {
     "name": "stdin",
     "output_type": "stream",
     "text": [
      "Enter your choice 1\n"
     ]
    },
    {
     "name": "stdout",
     "output_type": "stream",
     "text": [
      "Here you Can insert the element\n"
     ]
    },
    {
     "name": "stdin",
     "output_type": "stream",
     "text": [
      "Enter The Number of Elements That You want in your array 5\n",
      "Enter The Element0 4\n",
      "Enter The Element1 1\n",
      "Enter The Element2 5\n",
      "Enter The Element3 2\n",
      "Enter The Element4 3\n"
     ]
    },
    {
     "name": "stdout",
     "output_type": "stream",
     "text": [
      "Elements are inserted successfully\n",
      "\n",
      "--- Array Operations Menu ---\n",
      "1. Create Array\n",
      "2. Insertion Sort\n"
     ]
    },
    {
     "name": "stdin",
     "output_type": "stream",
     "text": [
      "Enter your choice 2\n"
     ]
    },
    {
     "name": "stdout",
     "output_type": "stream",
     "text": [
      "This block is for insertion sort\n",
      "[1, 2, 3, 4, 5]\n"
     ]
    }
   ],
   "source": [
    "if __name__ ==\"__main__\":\n",
    "    while True:\n",
    "        print(\"\\n--- Array Operations Menu ---\")\n",
    "        print(\"1. Create Array\")\n",
    "        print(\"2. Insertion Sort\")\n",
    "       \n",
    "\n",
    "        choice=int(input(\"Enter your choice\"))\n",
    "\n",
    "        if choice==1:\n",
    "            arr,n=create()\n",
    "        elif choice==2:\n",
    "            insertion_sort(arr)\n",
    "            break\n",
    "        else:\n",
    "            print(\"Invalid Choice\")"
   ]
  },
  {
   "cell_type": "code",
   "execution_count": null,
   "id": "fe858383-0407-43a5-acf0-1f38973165ca",
   "metadata": {},
   "outputs": [],
   "source": []
  }
 ],
 "metadata": {
  "kernelspec": {
   "display_name": "Python [conda env:base] *",
   "language": "python",
   "name": "conda-base-py"
  },
  "language_info": {
   "codemirror_mode": {
    "name": "ipython",
    "version": 3
   },
   "file_extension": ".py",
   "mimetype": "text/x-python",
   "name": "python",
   "nbconvert_exporter": "python",
   "pygments_lexer": "ipython3",
   "version": "3.12.7"
  }
 },
 "nbformat": 4,
 "nbformat_minor": 5
}
