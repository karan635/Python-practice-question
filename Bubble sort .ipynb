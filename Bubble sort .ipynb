{
 "cells": [
  {
   "cell_type": "code",
   "execution_count": 12,
   "id": "36e9d7bb-b5c0-4071-82ae-5b4d38c5d08b",
   "metadata": {},
   "outputs": [],
   "source": [
    "def create_array():\n",
    "    arr=[]\n",
    "    n = int(input(\"Enter the no of the elemts that you want in array\"))\n",
    "    for i in range(n):\n",
    "        Value = int(input(f\"Enter the element at position {i+1} : \"))\n",
    "        arr.append(Value)\n",
    "    print(\"Elements are inserted successfully\")\n",
    "    return arr,n"
   ]
  },
  {
   "cell_type": "code",
   "execution_count": 14,
   "id": "33cd47ac-6627-4b0e-a26f-0f7ea7af2af7",
   "metadata": {},
   "outputs": [],
   "source": [
    "def bubble_sort(arr):\n",
    "    print(\"Bubble sort\")\n",
    "    for i in range(len(arr)):\n",
    "        for j in range(len(arr)-i-1):\n",
    "            if arr[j]>arr[j+1]:\n",
    "                arr[j],arr[j+1]=arr[j+1],arr[j]\n",
    "    print(\"The array is Sorted Successfully\")\n",
    "    print(arr)"
   ]
  },
  {
   "cell_type": "code",
   "execution_count": 16,
   "id": "7c2dea63-29a7-4098-a642-be8b6b2c4bb2",
   "metadata": {},
   "outputs": [
    {
     "name": "stdout",
     "output_type": "stream",
     "text": [
      "\n",
      "--- Array Operations Menu ---\n",
      "1. Create Array\n",
      "2. Bubble  Sort\n"
     ]
    },
    {
     "name": "stdin",
     "output_type": "stream",
     "text": [
      "Enter your choice 1\n",
      "Enter the no of the elemts that you want in array 5\n",
      "Enter the element at position 1 :  4\n",
      "Enter the element at position 2 :  1\n",
      "Enter the element at position 3 :  2\n",
      "Enter the element at position 4 :  5\n",
      "Enter the element at position 5 :  3\n"
     ]
    },
    {
     "name": "stdout",
     "output_type": "stream",
     "text": [
      "Elements are inserted successfully\n",
      "\n",
      "--- Array Operations Menu ---\n",
      "1. Create Array\n",
      "2. Bubble  Sort\n"
     ]
    },
    {
     "name": "stdin",
     "output_type": "stream",
     "text": [
      "Enter your choice 2\n"
     ]
    },
    {
     "name": "stdout",
     "output_type": "stream",
     "text": [
      "Bubble sort\n",
      "The array is Sorted Successfully\n",
      "[1, 2, 3, 4, 5]\n"
     ]
    }
   ],
   "source": [
    "if __name__ ==\"__main__\":\n",
    "    while True:\n",
    "        print(\"\\n--- Array Operations Menu ---\")\n",
    "        print(\"1. Create Array\")\n",
    "        print(\"2. Bubble  Sort\")\n",
    "       \n",
    "\n",
    "        choice=int(input(\"Enter your choice\"))\n",
    "\n",
    "        if choice==1:\n",
    "            arr,n = create_array()\n",
    "        elif choice==2:\n",
    "            bubble_sort(arr)\n",
    "            break\n",
    "        else:\n",
    "            print(\"Invalid Choice\")"
   ]
  },
  {
   "cell_type": "code",
   "execution_count": null,
   "id": "3c6b1e3d-a005-4fe9-b7ca-9132822b48d7",
   "metadata": {},
   "outputs": [],
   "source": []
  }
 ],
 "metadata": {
  "kernelspec": {
   "display_name": "Python [conda env:base] *",
   "language": "python",
   "name": "conda-base-py"
  },
  "language_info": {
   "codemirror_mode": {
    "name": "ipython",
    "version": 3
   },
   "file_extension": ".py",
   "mimetype": "text/x-python",
   "name": "python",
   "nbconvert_exporter": "python",
   "pygments_lexer": "ipython3",
   "version": "3.12.7"
  }
 },
 "nbformat": 4,
 "nbformat_minor": 5
}
