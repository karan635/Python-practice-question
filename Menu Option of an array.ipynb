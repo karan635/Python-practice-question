{
 "cells": [
  {
   "cell_type": "code",
   "execution_count": 39,
   "id": "19aa8ff0-4864-4a14-834a-542ce53bd546",
   "metadata": {},
   "outputs": [],
   "source": [
    "arr=[]"
   ]
  },
  {
   "cell_type": "code",
   "execution_count": 45,
   "id": "f8dd3ffd-072c-407c-976e-b5dcf49c1428",
   "metadata": {},
   "outputs": [],
   "source": [
    "def create():\n",
    "    print(\"Here you Can insert the element\")\n",
    "    n=int(input(\"Enter The Number of Elements That You want in your array\"))\n",
    "    for i in range(n):   \n",
    "        Value=int(input(f\"Enter The Element{i}\"))\n",
    "        arr.append(Value)\n",
    "    print(\"Elements are inserted successfully\")"
   ]
  },
  {
   "cell_type": "code",
   "execution_count": 43,
   "id": "f4489edf-f254-4ac6-85b6-d1d7606f5dac",
   "metadata": {},
   "outputs": [],
   "source": [
    "def display():\n",
    "    print(\"Here you can display the array\")\n",
    "    print(arr)"
   ]
  },
  {
   "cell_type": "code",
   "execution_count": 49,
   "id": "d8f75062-cf77-4bdb-9b46-762972ee5362",
   "metadata": {},
   "outputs": [],
   "source": [
    "def insert_element():\n",
    "    print(\"Here you can Insert The elemet at the given position\")\n",
    "    Ele=int(input(\"Enter The element\"))\n",
    "    Pos=int(input(\"Enter the Position\"))\n",
    "    arr.insert(Pos,Ele)\n",
    "    print(arr)\n",
    "    print(\"Element added succesfully\")"
   ]
  },
  {
   "cell_type": "code",
   "execution_count": 55,
   "id": "fb473db2-7bcb-4b12-82ee-6e631344c16e",
   "metadata": {},
   "outputs": [],
   "source": [
    "def delete_element():\n",
    "    print(\"Here you Delete the element by giving the Value of that element\")\n",
    "    ed=int(input(\"Entere the element you want to delete\"))\n",
    "    arr.remove(ed)\n",
    "    print(arr)\n",
    "    print(\"Element removed successfully\")\n",
    "    "
   ]
  },
  {
   "cell_type": "code",
   "execution_count": 53,
   "id": "d9f24e0b-3145-4b43-a8c5-639e8aa2d64f",
   "metadata": {},
   "outputs": [],
   "source": [
    "def clear():\n",
    "    print(\"Here you can clear all the items from the list\")\n",
    "    arr.clear()\n",
    "    print(\"The list is cleared successfully \")"
   ]
  },
  {
   "cell_type": "code",
   "execution_count": null,
   "id": "5458f690-59e6-45a6-beae-8c77f966f0c6",
   "metadata": {},
   "outputs": [
    {
     "name": "stdout",
     "output_type": "stream",
     "text": [
      "\n",
      "--- Array Operations Menu ---\n",
      "1. Create Array\n",
      "2. Display Array\n",
      "3. Insert Element\n",
      "4. Delete Element by Value\n",
      "5. Clear item\n",
      "6. Exit\n"
     ]
    },
    {
     "name": "stdin",
     "output_type": "stream",
     "text": [
      "Enter your choice 1\n"
     ]
    },
    {
     "name": "stdout",
     "output_type": "stream",
     "text": [
      "Here you Can insert the element\n"
     ]
    },
    {
     "name": "stdin",
     "output_type": "stream",
     "text": [
      "Enter The Number of Elements That You want in your array 5\n",
      "Enter The Element0 1\n",
      "Enter The Element1 2\n",
      "Enter The Element2 3\n",
      "Enter The Element3 4\n",
      "Enter The Element4 5\n"
     ]
    },
    {
     "name": "stdout",
     "output_type": "stream",
     "text": [
      "Elements are inserted successfully\n",
      "\n",
      "--- Array Operations Menu ---\n",
      "1. Create Array\n",
      "2. Display Array\n",
      "3. Insert Element\n",
      "4. Delete Element by Value\n",
      "5. Clear item\n",
      "6. Exit\n"
     ]
    },
    {
     "name": "stdin",
     "output_type": "stream",
     "text": [
      "Enter your choice 2\n"
     ]
    },
    {
     "name": "stdout",
     "output_type": "stream",
     "text": [
      "Here you can display the array\n",
      "[1, 2, 3, 4, 5]\n",
      "\n",
      "--- Array Operations Menu ---\n",
      "1. Create Array\n",
      "2. Display Array\n",
      "3. Insert Element\n",
      "4. Delete Element by Value\n",
      "5. Clear item\n",
      "6. Exit\n"
     ]
    },
    {
     "name": "stdin",
     "output_type": "stream",
     "text": [
      "Enter your choice 3\n"
     ]
    },
    {
     "name": "stdout",
     "output_type": "stream",
     "text": [
      "Here you can Insert The elemet at the given position\n"
     ]
    },
    {
     "name": "stdin",
     "output_type": "stream",
     "text": [
      "Enter The element 9\n",
      "Enter the Position 3\n"
     ]
    },
    {
     "name": "stdout",
     "output_type": "stream",
     "text": [
      "[1, 2, 3, 9, 4, 5]\n",
      "Element added succesfully\n",
      "\n",
      "--- Array Operations Menu ---\n",
      "1. Create Array\n",
      "2. Display Array\n",
      "3. Insert Element\n",
      "4. Delete Element by Value\n",
      "5. Clear item\n",
      "6. Exit\n"
     ]
    }
   ],
   "source": [
    "if __name__ ==\"__main__\":\n",
    "    while True:\n",
    "        print(\"\\n--- Array Operations Menu ---\")\n",
    "        print(\"1. Create Array\")\n",
    "        print(\"2. Display Array\")\n",
    "        print(\"3. Insert Element\")\n",
    "        print(\"4. Delete Element by Value\")\n",
    "        print(\"5. Clear item\")\n",
    "        print(\"6. Exit\")\n",
    "\n",
    "        choice=int(input(\"Enter your choice\"))\n",
    "\n",
    "        if choice==1:\n",
    "            create()\n",
    "        elif choice==2:\n",
    "            display()\n",
    "        elif choice==3:\n",
    "            insert_element()\n",
    "        elif choice==4:\n",
    "            delete_element()\n",
    "        elif choice==5:\n",
    "            clear()\n",
    "        elif choice==6:\n",
    "            print(\"thank you\")\n",
    "            break\n",
    "        else:\n",
    "            print(\"Invalid Choice\")"
   ]
  },
  {
   "cell_type": "code",
   "execution_count": null,
   "id": "6f66376c-367f-4d3a-9e1c-ce9b8ab956f7",
   "metadata": {},
   "outputs": [],
   "source": []
  }
 ],
 "metadata": {
  "kernelspec": {
   "display_name": "Python [conda env:base] *",
   "language": "python",
   "name": "conda-base-py"
  },
  "language_info": {
   "codemirror_mode": {
    "name": "ipython",
    "version": 3
   },
   "file_extension": ".py",
   "mimetype": "text/x-python",
   "name": "python",
   "nbconvert_exporter": "python",
   "pygments_lexer": "ipython3",
   "version": "3.12.7"
  }
 },
 "nbformat": 4,
 "nbformat_minor": 5
}
